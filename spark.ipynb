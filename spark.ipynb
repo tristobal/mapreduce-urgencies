{
 "cells": [
  {
   "cell_type": "code",
   "execution_count": 2,
   "metadata": {},
   "outputs": [
    {
     "name": "stdout",
     "output_type": "stream",
     "text": [
      "275373\n",
      "root\n",
      " |-- idestablecimiento: string (nullable = true)\n",
      " |-- nestablecimiento: string (nullable = true)\n",
      " |-- Idcausa: integer (nullable = true)\n",
      " |-- glosacausa: string (nullable = true)\n",
      " |-- Col01: integer (nullable = true)\n",
      " |-- Col02: integer (nullable = true)\n",
      " |-- Col03: integer (nullable = true)\n",
      " |-- Col04: integer (nullable = true)\n",
      " |-- Col05: integer (nullable = true)\n",
      " |-- Col06: integer (nullable = true)\n",
      " |-- fecha: string (nullable = true)\n",
      " |-- semana: integer (nullable = true)\n",
      " |-- GLOSATIPOESTABLECIMIENTO: string (nullable = true)\n",
      " |-- GLOSATIPOATENCION: string (nullable = true)\n",
      " |-- GlosaTipoCampana: string (nullable = true)\n",
      "\n"
     ]
    }
   ],
   "source": [
    "df = sqlContext.read.format('com.databricks.spark.csv').options(header='true', inferschema='true',delimiter=',').load('urgencia2018.csv')\n",
    "count = df.count()\n",
    "print(count)\n",
    "df.printSchema()"
   ]
  },
  {
   "cell_type": "code",
   "execution_count": 3,
   "metadata": {},
   "outputs": [],
   "source": [
    "df.registerTempTable(\"urgencia\")"
   ]
  },
  {
   "cell_type": "code",
   "execution_count": 4,
   "metadata": {},
   "outputs": [
    {
     "name": "stdout",
     "output_type": "stream",
     "text": [
      "+--------------------+-----+\n",
      "|    nestablecimiento|TOTAL|\n",
      "+--------------------+-----+\n",
      "|Complejo Hospital...|18586|\n",
      "|Complejo Hospital...| 7123|\n",
      "|Hospital Barros L...| 4662|\n",
      "|Hospital Clínico ...| 8759|\n",
      "|Hospital Clínico ...|20684|\n",
      "|Hospital Clínico ...|21688|\n",
      "|Hospital Del Salv...| 2451|\n",
      "|Hospital Dr. Exeq...|24046|\n",
      "|Hospital Dr. Féli...|24724|\n",
      "|Hospital Dr. Luis...| 2682|\n",
      "|Hospital El Pino ...|11706|\n",
      "|Hospital Padre Al...|21487|\n",
      "|Hospital San Juan...| 3803|\n",
      "|Hospital de Niños...|18691|\n",
      "|Hospital de Urgen...| 4108|\n",
      "|SAPU Dr. Carlos L...|13424|\n",
      "|SAPU- Dr.  Alejan...|28102|\n",
      "|SAPU-Centro de Ur...|13577|\n",
      "|SAPU-Cóndores de ...|12966|\n",
      "|SAPU-Dr. Norman V...|13877|\n",
      "+--------------------+-----+\n",
      "only showing top 20 rows\n",
      "\n"
     ]
    }
   ],
   "source": [
    "sqlContext.sql(\"SELECT nestablecimiento, SUM(Col01) AS TOTAL FROM urgencia WHERE Idcausa = 2 GROUP BY nestablecimiento ORDER BY nestablecimiento\").show()"
   ]
  }
 ],
 "metadata": {
  "kernelspec": {
   "display_name": "Python 2.7 (spark)",
   "language": "python",
   "name": "py27spark"
  },
  "language_info": {
   "codemirror_mode": {
    "name": "ipython",
    "version": 2
   },
   "file_extension": ".py",
   "mimetype": "text/x-python",
   "name": "python",
   "nbconvert_exporter": "python",
   "pygments_lexer": "ipython2",
   "version": "2.7.15"
  }
 },
 "nbformat": 4,
 "nbformat_minor": 2
}
