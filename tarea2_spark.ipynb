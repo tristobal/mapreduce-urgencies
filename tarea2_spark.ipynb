{
 "cells": [
  {
   "cell_type": "code",
   "execution_count": 11,
   "metadata": {},
   "outputs": [
    {
     "name": "stdout",
     "output_type": "stream",
     "text": [
      "412139\n",
      "root\n",
      " |-- id: string (nullable = true)\n",
      " |-- nombre: string (nullable = true)\n",
      " |-- comuna: string (nullable = true)\n",
      " |-- total: integer (nullable = true)\n",
      " |-- fecha: string (nullable = true)\n",
      " |-- semana: integer (nullable = true)\n",
      " |-- avg: decimal(10,0) (nullable = true)\n",
      " |-- max: decimal(10,0) (nullable = true)\n",
      " |-- min: decimal(10,0) (nullable = true)\n",
      "\n"
     ]
    }
   ],
   "source": [
    "from pyspark.sql import SparkSession\n",
    "from pyspark.sql.types import StructType, StructField, IntegerType, StringType, DecimalType\n",
    "\n",
    "spark = SparkSession.builder.appName(\"tarea2\").getOrCreate()\n",
    "\n",
    "schema = StructType([\n",
    "    StructField(\"id\", StringType(), True),\n",
    "    StructField(\"nombre\", StringType(), True),\n",
    "    StructField(\"comuna\", StringType(), True),\n",
    "    StructField(\"total\", IntegerType(), True),\n",
    "    StructField(\"fecha\", StringType(), True),\n",
    "    StructField(\"semana\", IntegerType(), True),\n",
    "    StructField(\"avg\", DecimalType(), True),\n",
    "    StructField(\"max\", DecimalType(), True),\n",
    "    StructField(\"min\", DecimalType(), True)\n",
    "])\n",
    "\n",
    "\n",
    "df = spark.read.csv(\"urgencias2008_2019.csv\", header=False, schema=schema)\n",
    "count = df.count()\n",
    "print(count)\n",
    "df.printSchema()"
   ]
  },
  {
   "cell_type": "code",
   "execution_count": 21,
   "metadata": {},
   "outputs": [
    {
     "name": "stdout",
     "output_type": "stream",
     "text": [
      "+---------+----+-----+\n",
      "|   comuna|anio|total|\n",
      "+---------+----+-----+\n",
      "|    Alhué|2019|  918|\n",
      "|    Alhué|2018| 3093|\n",
      "|     Buin|2019| 8115|\n",
      "|     Buin|2009|13935|\n",
      "|     Buin|2018|18490|\n",
      "|     Buin|2017|20585|\n",
      "|     Buin|2012|20710|\n",
      "|     Buin|2011|22148|\n",
      "|     Buin|2016|26660|\n",
      "|     Buin|2010|27672|\n",
      "|     Buin|2015|28855|\n",
      "|     Buin|2014|31918|\n",
      "|     Buin|2013|36274|\n",
      "|Cerrillos|2019| 5222|\n",
      "|Cerrillos|2008|11237|\n",
      "|Cerrillos|2009|13646|\n",
      "|Cerrillos|2018|13877|\n",
      "|Cerrillos|2017|14158|\n",
      "|Cerrillos|2011|15737|\n",
      "|Cerrillos|2010|16563|\n",
      "+---------+----+-----+\n",
      "only showing top 20 rows\n",
      "\n"
     ]
    }
   ],
   "source": [
    "df.registerTempTable(\"urgencia\")\n",
    "spark.sql(\"SELECT comuna, SUBSTR(fecha, 7, 4) AS anio, SUM(total) as total FROM urgencia GROUP BY comuna, anio ORDER BY comuna, total\").show()\n"
   ]
  }
 ],
 "metadata": {
  "kernelspec": {
   "display_name": "Python 3",
   "language": "python",
   "name": "python3"
  },
  "language_info": {
   "codemirror_mode": {
    "name": "ipython",
    "version": 3
   },
   "file_extension": ".py",
   "mimetype": "text/x-python",
   "name": "python",
   "nbconvert_exporter": "python",
   "pygments_lexer": "ipython3",
   "version": "3.7.3"
  }
 },
 "nbformat": 4,
 "nbformat_minor": 2
}
